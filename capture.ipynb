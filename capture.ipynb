{
 "cells": [
  {
   "cell_type": "code",
   "execution_count": 7,
   "metadata": {},
   "outputs": [
    {
     "name": "stdout",
     "output_type": "stream",
     "text": [
      "(0)train? or (1)test?: 0\n",
      "write what/who it is : soyoung\n",
      "Directory  soyoung  already exists\n",
      "fin\n"
     ]
    }
   ],
   "source": [
    "# STEP1. 영상 찍기\n",
    "\n",
    "import cv2 as cv\n",
    "import os\n",
    "\n",
    "opt = input(\"(0)train? or (1)test?: \")\n",
    "while opt!='0' and opt!='1':\n",
    "    print(\"error\")\n",
    "    opt = input(\"(0)for train? or (1)test?: \")\n",
    "if opt=='0': opt='training_set'\n",
    "elif opt=='1': opt='test_set' \n",
    "    \n",
    "filename = input(\"write what/who it is : \")\n",
    "# cv2로부터 VideoCapture 객체 생성\n",
    "# cap = cv.VideoCapture('input.mp4')\n",
    "cap = cv.VideoCapture(0)\n",
    "\n",
    "if not os.path.exists('./dataset_img/training_set/'+filename):\n",
    "    os.mkdir('./dataset_img/training_set/'+filename)\n",
    "    os.mkdir('./dataset_img/test_set/'+filename)\n",
    "    print(\"Directory \" , filename ,  \" Created \")\n",
    "else:    \n",
    "    print(\"Directory \" , filename ,  \" already exists\")\n",
    "\n",
    "# fourcc = cv.VideoWriter_fourcc(*'XVID')\n",
    "fourcc = cv.VideoWriter_fourcc(*'mp4v')\n",
    "out = cv.VideoWriter('./output.mp4',fourcc,30.0, (640,480))\n",
    "\n",
    "if cap.isOpened() == False:\n",
    "    print(\"error01\")\n",
    "\n",
    "while(cap.isOpened()):\n",
    "    # capture the image from camera\n",
    "    ret, frame = cap.read()\n",
    "    # if not captured / error happened\n",
    "    if ret==0: break\n",
    "\n",
    "    # 상하 뒤집기\n",
    "    frame = cv.resize(frame,(640,480))\n",
    "    # 이미지를 파일로 저장. VideoWriter 개체에 연속적 저장 : 동영상으로\n",
    "    out.write(frame)\n",
    "\n",
    "    # 화면에 이미지 출력, 연속적으로 화면에 출력하면 동영상이 된다\n",
    "    cv.imshow('frame',frame)\n",
    "\n",
    "    # ESC누르면 종료\n",
    "    if cv.waitKey(1) & 0xFF==27:\n",
    "        print(\"fin\")\n",
    "        break\n",
    "\n",
    "# VideoCapture 객체의 메모리 해제하고 모든 윈도 창 종료\n",
    "cap.release()\n",
    "out.release()\n",
    "cv.destroyAllWindows()\n"
   ]
  },
  {
   "cell_type": "code",
   "execution_count": 9,
   "metadata": {},
   "outputs": [
    {
     "name": "stdout",
     "output_type": "stream",
     "text": [
      "save soyoung\n",
      "./dataset_img/training_set/soyoung\n"
     ]
    }
   ],
   "source": [
    "# STEP2. 영상 to 이미지\n",
    "\n",
    "import cv2\n",
    "import os\n",
    "import time\n",
    "\n",
    "def video_to_frames(video, path_output_dir):\n",
    "    # extract frames from a video and save to directory as 'x.png' where \n",
    "    # x is the frame index\n",
    "    vidcap = cv2.VideoCapture(video)\n",
    "    count = 0\n",
    "    while vidcap.isOpened():\n",
    "        success, image = vidcap.read()\n",
    "        if success:\n",
    "            cv2.imwrite(os.path.join(path_output_dir, str(round(time.time()))+'%d.jpg') % count, image)\n",
    "            count += 1\n",
    "        else:\n",
    "            break\n",
    "    cv2.destroyAllWindows()\n",
    "    vidcap.release()\n",
    "\n",
    "video_to_frames('./output.mp4', './dataset_img/'+opt+'/'+filename)\n",
    "print('save '+filename)\n",
    "print('dir : ./dataset_img/'+opt+'/'+filename)\n",
    "os.remove('./output.mp4')"
   ]
  },
  {
   "cell_type": "code",
   "execution_count": null,
   "metadata": {},
   "outputs": [],
   "source": []
  }
 ],
 "metadata": {
  "kernelspec": {
   "display_name": "Python 3",
   "language": "python",
   "name": "python3"
  },
  "language_info": {
   "codemirror_mode": {
    "name": "ipython",
    "version": 3
   },
   "file_extension": ".py",
   "mimetype": "text/x-python",
   "name": "python",
   "nbconvert_exporter": "python",
   "pygments_lexer": "ipython3",
   "version": "3.6.1"
  }
 },
 "nbformat": 4,
 "nbformat_minor": 2
}
